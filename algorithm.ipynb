{
 "cells": [
  {
   "cell_type": "code",
   "execution_count": 1,
   "metadata": {
    "collapsed": true
   },
   "outputs": [
    {
     "name": "stdout",
     "output_type": "stream",
     "text": [
      "Inside covid19_components.py: 0 GPUs are available.\n",
      "No GPUs found! Running the simulation on a CPU.\n",
      "Inside covid19_env.py: 0 GPUs are available.\n",
      "No GPUs found! Running the simulation on a CPU.\n"
     ]
    }
   ],
   "source": [
    "import os\n",
    "import pickle\n",
    "import random\n",
    "import warnings\n",
    "from abc import ABC\n",
    "\n",
    "import gym\n",
    "import numpy as np\n",
    "from ai_economist import foundation\n",
    "from gym import spaces\n",
    "from gym.utils import seeding\n",
    "from ray.rllib.env.multi_agent_env import MultiAgentEnv\n",
    "\n",
    "_BIG_NUMBER = 1e20\n",
    "\n",
    "\n",
    "\n",
    "\n",
    "\n"
   ]
  },
  {
   "cell_type": "code",
   "execution_count": null,
   "outputs": [],
   "source": [
    "class CustomEnvWrapper(gym.Env):\n",
    "    def __init__(self,env):\n",
    "        self.env = env\n",
    "        self.obs_space = gym.spaces.Dict({\n",
    "             'flat': env.observation_space['flat'],\n",
    "            'world-idx_map': env.observation_space['world-idx_map'],\n",
    "            'world-map': env.observation_space['world-map'],\n",
    "            'time': gym.spaces.Box(low=0, high=np.inf, shape=(1,), dtype=np.float32),\n",
    "            'action_mask': gym.spaces.Box(low=0, high=1, shape=(50,), dtype=np.float32)\n",
    "\n",
    "\n",
    "        })\n",
    "        self.action_space = env.action_space\n",
    "    def reset(self):\n",
    "        obs = self.reset()\n",
    "        obs_dict = {\n",
    "             'flat': obs['flat'],\n",
    "            'world-idx_map': obs['world-idx_map'],\n",
    "            'world-map': obs['world-map'],\n",
    "            'time': np.array([0], dtype=np.float32),\n",
    "            'action_mask': np.ones(50, dtype=np.float32)\n",
    "\n",
    "        }\n",
    "        return obs_dict\n",
    "    def step(self,action):\n",
    "        obs, reward, done, info = self.env.step(action)\n",
    "        obs_dict = {\n",
    "            'flat': obs['flat'],\n",
    "            'world-idx_map': obs['world-idx_map'],\n",
    "            'world-map': obs['world-map'],\n",
    "            'time': np.array([info['time_step']], dtype=np.float32),\n",
    "            'action_mask': np.array(info['action_mask'], dtype=np.float32)\n",
    "        }\n",
    "        return obs_dict, reward, done, info\n"
   ],
   "metadata": {
    "collapsed": false
   }
  },
  {
   "cell_type": "code",
   "execution_count": null,
   "outputs": [],
   "source": [
    "env_config_dict = {\n",
    "    # ===== SCENARIO CLASS =====\n",
    "    # Which Scenario class to use: the class's name in the Scenario Registry (foundation.scenarios).\n",
    "    # The environment object will be an instance of the Scenario class.\n",
    "    'scenario_name': 'layout_from_file/simple_wood_and_stone',\n",
    "\n",
    "    # ===== COMPONENTS =====\n",
    "    # Which components to use (specified as list of (\"component_name\", {component_kwargs}) tuples).\n",
    "    #   \"component_name\" refers to the Component class's name in the Component Registry (foundation.components)\n",
    "    #   {component_kwargs} is a dictionary of kwargs passed to the Component class\n",
    "    # The order in which components reset, step, and generate obs follows their listed order below.\n",
    "    'components': [\n",
    "        # (1) Building houses\n",
    "        ('Build', {\n",
    "            'skill_dist': 'pareto',\n",
    "            'payment_max_skill_multiplier': 3,\n",
    "            'build_labor': 10,\n",
    "            'payment': 10\n",
    "        }),\n",
    "        # (2) Trading collectible resources\n",
    "        ('ContinuousDoubleAuction', {\n",
    "            'max_bid_ask': 10,\n",
    "            'order_labor': 0.25,\n",
    "            'max_num_orders': 5,\n",
    "            'order_duration': 50\n",
    "        }),\n",
    "        # (3) Movement and resource collection\n",
    "        ('Gather', {\n",
    "            'move_labor': 1,\n",
    "            'collect_labor': 1,\n",
    "            'skill_dist': 'pareto'\n",
    "        }),\n",
    "        # (4) Planner\n",
    "        ('PeriodicBracketTax', {\n",
    "            'period': 100,\n",
    "            'bracket_spacing': 'us-federal',\n",
    "            'usd_scaling': 1000,\n",
    "            'disable_taxes': False\n",
    "        })\n",
    "    ],\n",
    "\n",
    "    # ===== SCENARIO CLASS ARGUMENTS =====\n",
    "    # (optional) kwargs that are added by the Scenario class (i.e. not defined in BaseEnvironment)\n",
    "    'env_layout_file': 'quadrant_25x25_20each_30clump.txt',\n",
    "    'starting_agent_coin': 10,\n",
    "    'fixed_four_skill_and_loc': True,\n",
    "\n",
    "    # ===== STANDARD ARGUMENTS ======\n",
    "    # kwargs that are used by every Scenario class (i.e. defined in BaseEnvironment)\n",
    "    'n_agents': 4,  # Number of non-planner agents (must be > 1)\n",
    "    'world_size': [25, 25],  # [Height, Width] of the env world\n",
    "    'episode_length': 1000,  # Number of timesteps per episode\n",
    "\n",
    "    # In multi-action-mode, the policy selects an action for each action subspace (defined in component code).\n",
    "    # Otherwise, the policy selects only 1 action.\n",
    "    'multi_action_mode_agents': False,\n",
    "    'multi_action_mode_planner': True,\n",
    "\n",
    "    # When flattening observations, concatenate scalar & vector observations before output.\n",
    "    # Otherwise, return observations with minimal processing.\n",
    "    'flatten_observations': True,\n",
    "    # When Flattening masks, concatenate each action subspace mask into a single array.\n",
    "    # Note: flatten_masks = True is required for masking action logits in the code below.\n",
    "    'flatten_masks': True,\n",
    "\n",
    "    # How often to save the dense logs\n",
    "    'dense_log_frequency': 1\n",
    "}"
   ],
   "metadata": {
    "collapsed": false
   }
  },
  {
   "cell_type": "code",
   "execution_count": 1,
   "metadata": {
    "collapsed": false
   },
   "outputs": [],
   "source": [
    "class EnvWrapper()"
   ]
  },
  {
   "cell_type": "code",
   "execution_count": 2,
   "metadata": {
    "collapsed": false
   },
   "outputs": [
    {
     "name": "stdout",
     "output_type": "stream",
     "text": [
      "[EnvWrapper] Spaces\n",
      "[EnvWrapper] Obs (a)   \n",
      "action_mask    : (50,)\n",
      "flat           : (136,)\n",
      "time           : (1,)\n",
      "world-idx_map  : (2, 11, 11)\n",
      "world-map      : (7, 11, 11)\n",
      "\n",
      "\n",
      "[EnvWrapper] Obs (p)   \n",
      "action_mask    : (154,)\n",
      "flat           : (86,)\n",
      "p0             : (8,)\n",
      "p1             : (8,)\n",
      "p2             : (8,)\n",
      "p3             : (8,)\n",
      "time           : (1,)\n",
      "world-idx_map  : (2, 25, 25)\n",
      "world-map      : (6, 25, 25)\n",
      "\n",
      "\n",
      "[EnvWrapper] Action (a) Discrete(50)\n",
      "[EnvWrapper] Action (p) MultiDiscrete([22 22 22 22 22 22 22])\n",
      "<__main__.RLlibEnvWrapper object at 0x7faf5154e550>\n"
     ]
    }
   ],
   "source": [
    "env_obj = RLlibEnvWrapper({\"env_config_dict\": env_config_dict}, verbose=True)\n",
    "print(env_obj)"
   ]
  },
  {
   "cell_type": "code",
   "execution_count": 3,
   "metadata": {
    "collapsed": false
   },
   "outputs": [],
   "source": [
    "policies = {\n",
    "    \"a\": (\n",
    "        None,  # uses default policy\n",
    "        env_obj.observation_space,\n",
    "        env_obj.action_space,\n",
    "        {}  # define a custom agent policy configuration.\n",
    "    ),\n",
    "    \"p\": (\n",
    "        None,  # uses default policy\n",
    "        env_obj.observation_space_pl,\n",
    "        env_obj.action_space_pl,\n",
    "        {}  # define a custom planner policy configuration.\n",
    "    )\n",
    "}\n",
    "\n",
    "# In foundation, all the agents have integer ids and the social planner has an id of \"p\"\n",
    "policy_mapping_fun = lambda i: \"a\" if str(i).isdigit() else \"p\"\n",
    "\n",
    "policies_to_train = [\"a\", \"p\"]\n"
   ]
  },
  {
   "cell_type": "code",
   "execution_count": 4,
   "metadata": {
    "collapsed": false
   },
   "outputs": [],
   "source": [
    "trainer_config = {\n",
    "    \"multiagent\": {\n",
    "        \"policies\": policies,\n",
    "        \"policies_to_train\": policies_to_train,\n",
    "        \"policy_mapping_fn\": policy_mapping_fun,\n",
    "    }\n",
    "}"
   ]
  },
  {
   "cell_type": "code",
   "execution_count": 5,
   "metadata": {
    "collapsed": false
   },
   "outputs": [],
   "source": [
    "trainer_config.update(\n",
    "    {\n",
    "        \"num_workers\": 2,\n",
    "        \"num_envs_per_worker\": 2,\n",
    "        # Other training parameters\n",
    "        \"train_batch_size\":  4000,\n",
    "        \"sgd_minibatch_size\": 4000,\n",
    "        \"num_sgd_iter\": 1\n",
    "    }\n",
    ")\n"
   ]
  },
  {
   "cell_type": "code",
   "execution_count": 6,
   "metadata": {
    "collapsed": false
   },
   "outputs": [],
   "source": [
    "# We also add the \"num_envs_per_worker\" parameter for the env. wrapper to index the environments.\n",
    "env_config = {\n",
    "    \"env_config_dict\": env_config_dict,\n",
    "    \"num_envs_per_worker\": trainer_config.get('num_envs_per_worker'),\n",
    "}\n",
    "\n",
    "trainer_config.update(\n",
    "    {\n",
    "        \"env_config\": env_config\n",
    "    }\n",
    ")"
   ]
  },
  {
   "cell_type": "code",
   "execution_count": 7,
   "metadata": {},
   "outputs": [],
   "source": [
    "import ray"
   ]
  },
  {
   "cell_type": "code",
   "execution_count": 8,
   "metadata": {
    "collapsed": false
   },
   "outputs": [
    {
     "name": "stderr",
     "output_type": "stream",
     "text": [
      "2023-05-02 18:08:16,092\tINFO resource_spec.py:204 -- Starting Ray with 3.66 GiB memory available for workers and up to 1.85 GiB for objects. You can adjust these settings with ray.init(memory=<bytes>, object_store_memory=<bytes>).\n",
      "2023-05-02 18:08:17,302\tINFO services.py:551 -- Failed to connect to the redis server, retrying.\n",
      "2023-05-02 18:08:19,004\tINFO services.py:1146 -- View the Ray dashboard at \u001B[1m\u001B[32m127.0.0.1:8265\u001B[39m\u001B[22m\n"
     ]
    },
    {
     "data": {
      "text/plain": "{'node_ip_address': '192.168.118.48',\n 'redis_address': '192.168.118.48:16570',\n 'object_store_address': '/tmp/ray/session_2023-05-02_18-08-16_046846_100663/sockets/plasma_store',\n 'raylet_socket_name': '/tmp/ray/session_2023-05-02_18-08-16_046846_100663/sockets/raylet',\n 'webui_url': '127.0.0.1:8265',\n 'session_dir': '/tmp/ray/session_2023-05-02_18-08-16_046846_100663'}"
     },
     "execution_count": 8,
     "metadata": {},
     "output_type": "execute_result"
    }
   ],
   "source": [
    "ray.init(webui_host=\"127.0.0.1\")"
   ]
  },
  {
   "cell_type": "code",
   "execution_count": 9,
   "metadata": {
    "collapsed": false
   },
   "outputs": [],
   "source": [
    "from ray.rllib.agents.ppo import PPOTrainer"
   ]
  },
  {
   "cell_type": "code",
   "execution_count": 10,
   "metadata": {
    "collapsed": false
   },
   "outputs": [
    {
     "ename": "TypeError",
     "evalue": "cannot pickle 'property' object",
     "output_type": "error",
     "traceback": [
      "\u001B[0;31m---------------------------------------------------------------------------\u001B[0m",
      "\u001B[0;31mTypeError\u001B[0m                                 Traceback (most recent call last)",
      "\u001B[0;32m<ipython-input-10-aeacfeba0841>\u001B[0m in \u001B[0;36m<module>\u001B[0;34m\u001B[0m\n\u001B[0;32m----> 1\u001B[0;31m trainer = PPOTrainer(\n\u001B[0m\u001B[1;32m      2\u001B[0m     \u001B[0menv\u001B[0m \u001B[0;34m=\u001B[0m \u001B[0mRLlibEnvWrapper\u001B[0m\u001B[0;34m,\u001B[0m\u001B[0;34m\u001B[0m\u001B[0;34m\u001B[0m\u001B[0m\n\u001B[1;32m      3\u001B[0m     \u001B[0mconfig\u001B[0m \u001B[0;34m=\u001B[0m \u001B[0mtrainer_config\u001B[0m\u001B[0;34m\u001B[0m\u001B[0;34m\u001B[0m\u001B[0m\n\u001B[1;32m      4\u001B[0m \u001B[0;34m\u001B[0m\u001B[0m\n\u001B[1;32m      5\u001B[0m )\n",
      "\u001B[0;32m~/PycharmProjects/pythonProject/venv/lib/python3.8/site-packages/ray/rllib/agents/trainer_template.py\u001B[0m in \u001B[0;36m__init__\u001B[0;34m(self, config, env, logger_creator)\u001B[0m\n\u001B[1;32m     88\u001B[0m \u001B[0;34m\u001B[0m\u001B[0m\n\u001B[1;32m     89\u001B[0m         \u001B[0;32mdef\u001B[0m \u001B[0m__init__\u001B[0m\u001B[0;34m(\u001B[0m\u001B[0mself\u001B[0m\u001B[0;34m,\u001B[0m \u001B[0mconfig\u001B[0m\u001B[0;34m=\u001B[0m\u001B[0;32mNone\u001B[0m\u001B[0;34m,\u001B[0m \u001B[0menv\u001B[0m\u001B[0;34m=\u001B[0m\u001B[0;32mNone\u001B[0m\u001B[0;34m,\u001B[0m \u001B[0mlogger_creator\u001B[0m\u001B[0;34m=\u001B[0m\u001B[0;32mNone\u001B[0m\u001B[0;34m)\u001B[0m\u001B[0;34m:\u001B[0m\u001B[0;34m\u001B[0m\u001B[0;34m\u001B[0m\u001B[0m\n\u001B[0;32m---> 90\u001B[0;31m             \u001B[0mTrainer\u001B[0m\u001B[0;34m.\u001B[0m\u001B[0m__init__\u001B[0m\u001B[0;34m(\u001B[0m\u001B[0mself\u001B[0m\u001B[0;34m,\u001B[0m \u001B[0mconfig\u001B[0m\u001B[0;34m,\u001B[0m \u001B[0menv\u001B[0m\u001B[0;34m,\u001B[0m \u001B[0mlogger_creator\u001B[0m\u001B[0;34m)\u001B[0m\u001B[0;34m\u001B[0m\u001B[0;34m\u001B[0m\u001B[0m\n\u001B[0m\u001B[1;32m     91\u001B[0m \u001B[0;34m\u001B[0m\u001B[0m\n\u001B[1;32m     92\u001B[0m         \u001B[0;32mdef\u001B[0m \u001B[0m_init\u001B[0m\u001B[0;34m(\u001B[0m\u001B[0mself\u001B[0m\u001B[0;34m,\u001B[0m \u001B[0mconfig\u001B[0m\u001B[0;34m,\u001B[0m \u001B[0menv_creator\u001B[0m\u001B[0;34m)\u001B[0m\u001B[0;34m:\u001B[0m\u001B[0;34m\u001B[0m\u001B[0;34m\u001B[0m\u001B[0m\n",
      "\u001B[0;32m~/PycharmProjects/pythonProject/venv/lib/python3.8/site-packages/ray/rllib/agents/trainer.py\u001B[0m in \u001B[0;36m__init__\u001B[0;34m(self, config, env, logger_creator)\u001B[0m\n\u001B[1;32m    433\u001B[0m \u001B[0;34m\u001B[0m\u001B[0m\n\u001B[1;32m    434\u001B[0m         \u001B[0;31m# Trainers allow env ids to be passed directly to the constructor.\u001B[0m\u001B[0;34m\u001B[0m\u001B[0;34m\u001B[0m\u001B[0;34m\u001B[0m\u001B[0m\n\u001B[0;32m--> 435\u001B[0;31m         \u001B[0mself\u001B[0m\u001B[0;34m.\u001B[0m\u001B[0m_env_id\u001B[0m \u001B[0;34m=\u001B[0m \u001B[0mself\u001B[0m\u001B[0;34m.\u001B[0m\u001B[0m_register_if_needed\u001B[0m\u001B[0;34m(\u001B[0m\u001B[0menv\u001B[0m \u001B[0;32mor\u001B[0m \u001B[0mconfig\u001B[0m\u001B[0;34m.\u001B[0m\u001B[0mget\u001B[0m\u001B[0;34m(\u001B[0m\u001B[0;34m\"env\"\u001B[0m\u001B[0;34m)\u001B[0m\u001B[0;34m)\u001B[0m\u001B[0;34m\u001B[0m\u001B[0;34m\u001B[0m\u001B[0m\n\u001B[0m\u001B[1;32m    436\u001B[0m \u001B[0;34m\u001B[0m\u001B[0m\n\u001B[1;32m    437\u001B[0m         \u001B[0;31m# Create a default logger creator if no logger_creator is specified\u001B[0m\u001B[0;34m\u001B[0m\u001B[0;34m\u001B[0m\u001B[0;34m\u001B[0m\u001B[0m\n",
      "\u001B[0;32m~/PycharmProjects/pythonProject/venv/lib/python3.8/site-packages/ray/rllib/agents/trainer.py\u001B[0m in \u001B[0;36m_register_if_needed\u001B[0;34m(self, env_object)\u001B[0m\n\u001B[1;32m   1072\u001B[0m         \u001B[0;32melif\u001B[0m \u001B[0misinstance\u001B[0m\u001B[0;34m(\u001B[0m\u001B[0menv_object\u001B[0m\u001B[0;34m,\u001B[0m \u001B[0mtype\u001B[0m\u001B[0;34m)\u001B[0m\u001B[0;34m:\u001B[0m\u001B[0;34m\u001B[0m\u001B[0;34m\u001B[0m\u001B[0m\n\u001B[1;32m   1073\u001B[0m             \u001B[0mname\u001B[0m \u001B[0;34m=\u001B[0m \u001B[0menv_object\u001B[0m\u001B[0;34m.\u001B[0m\u001B[0m__name__\u001B[0m\u001B[0;34m\u001B[0m\u001B[0;34m\u001B[0m\u001B[0m\n\u001B[0;32m-> 1074\u001B[0;31m             \u001B[0mregister_env\u001B[0m\u001B[0;34m(\u001B[0m\u001B[0mname\u001B[0m\u001B[0;34m,\u001B[0m \u001B[0;32mlambda\u001B[0m \u001B[0mconfig\u001B[0m\u001B[0;34m:\u001B[0m \u001B[0menv_object\u001B[0m\u001B[0;34m(\u001B[0m\u001B[0mconfig\u001B[0m\u001B[0;34m)\u001B[0m\u001B[0;34m)\u001B[0m\u001B[0;34m\u001B[0m\u001B[0;34m\u001B[0m\u001B[0m\n\u001B[0m\u001B[1;32m   1075\u001B[0m             \u001B[0;32mreturn\u001B[0m \u001B[0mname\u001B[0m\u001B[0;34m\u001B[0m\u001B[0;34m\u001B[0m\u001B[0m\n\u001B[1;32m   1076\u001B[0m         raise ValueError(\n",
      "\u001B[0;32m~/PycharmProjects/pythonProject/venv/lib/python3.8/site-packages/ray/tune/registry.py\u001B[0m in \u001B[0;36mregister_env\u001B[0;34m(name, env_creator)\u001B[0m\n\u001B[1;32m     84\u001B[0m     \u001B[0;32mif\u001B[0m \u001B[0;32mnot\u001B[0m \u001B[0misinstance\u001B[0m\u001B[0;34m(\u001B[0m\u001B[0menv_creator\u001B[0m\u001B[0;34m,\u001B[0m \u001B[0mFunctionType\u001B[0m\u001B[0;34m)\u001B[0m\u001B[0;34m:\u001B[0m\u001B[0;34m\u001B[0m\u001B[0;34m\u001B[0m\u001B[0m\n\u001B[1;32m     85\u001B[0m         \u001B[0;32mraise\u001B[0m \u001B[0mTypeError\u001B[0m\u001B[0;34m(\u001B[0m\u001B[0;34m\"Second argument must be a function.\"\u001B[0m\u001B[0;34m,\u001B[0m \u001B[0menv_creator\u001B[0m\u001B[0;34m)\u001B[0m\u001B[0;34m\u001B[0m\u001B[0;34m\u001B[0m\u001B[0m\n\u001B[0;32m---> 86\u001B[0;31m     \u001B[0m_global_registry\u001B[0m\u001B[0;34m.\u001B[0m\u001B[0mregister\u001B[0m\u001B[0;34m(\u001B[0m\u001B[0mENV_CREATOR\u001B[0m\u001B[0;34m,\u001B[0m \u001B[0mname\u001B[0m\u001B[0;34m,\u001B[0m \u001B[0menv_creator\u001B[0m\u001B[0;34m)\u001B[0m\u001B[0;34m\u001B[0m\u001B[0;34m\u001B[0m\u001B[0m\n\u001B[0m\u001B[1;32m     87\u001B[0m \u001B[0;34m\u001B[0m\u001B[0m\n\u001B[1;32m     88\u001B[0m \u001B[0;34m\u001B[0m\u001B[0m\n",
      "\u001B[0;32m~/PycharmProjects/pythonProject/venv/lib/python3.8/site-packages/ray/tune/registry.py\u001B[0m in \u001B[0;36mregister\u001B[0;34m(self, category, key, value)\u001B[0m\n\u001B[1;32m    110\u001B[0m             raise TuneError(\"Unknown category {} not among {}\".format(\n\u001B[1;32m    111\u001B[0m                 category, KNOWN_CATEGORIES))\n\u001B[0;32m--> 112\u001B[0;31m         \u001B[0mself\u001B[0m\u001B[0;34m.\u001B[0m\u001B[0m_to_flush\u001B[0m\u001B[0;34m[\u001B[0m\u001B[0;34m(\u001B[0m\u001B[0mcategory\u001B[0m\u001B[0;34m,\u001B[0m \u001B[0mkey\u001B[0m\u001B[0;34m)\u001B[0m\u001B[0;34m]\u001B[0m \u001B[0;34m=\u001B[0m \u001B[0mpickle\u001B[0m\u001B[0;34m.\u001B[0m\u001B[0mdumps\u001B[0m\u001B[0;34m(\u001B[0m\u001B[0mvalue\u001B[0m\u001B[0;34m)\u001B[0m\u001B[0;34m\u001B[0m\u001B[0;34m\u001B[0m\u001B[0m\n\u001B[0m\u001B[1;32m    113\u001B[0m         \u001B[0;32mif\u001B[0m \u001B[0m_internal_kv_initialized\u001B[0m\u001B[0;34m(\u001B[0m\u001B[0;34m)\u001B[0m\u001B[0;34m:\u001B[0m\u001B[0;34m\u001B[0m\u001B[0;34m\u001B[0m\u001B[0m\n\u001B[1;32m    114\u001B[0m             \u001B[0mself\u001B[0m\u001B[0;34m.\u001B[0m\u001B[0mflush_values\u001B[0m\u001B[0;34m(\u001B[0m\u001B[0;34m)\u001B[0m\u001B[0;34m\u001B[0m\u001B[0;34m\u001B[0m\u001B[0m\n",
      "\u001B[0;32m~/PycharmProjects/pythonProject/venv/lib/python3.8/site-packages/ray/cloudpickle/cloudpickle_fast.py\u001B[0m in \u001B[0;36mdumps\u001B[0;34m(obj, protocol, buffer_callback)\u001B[0m\n\u001B[1;32m     70\u001B[0m         cp = CloudPickler(file, protocol=protocol,\n\u001B[1;32m     71\u001B[0m                           buffer_callback=buffer_callback)\n\u001B[0;32m---> 72\u001B[0;31m         \u001B[0mcp\u001B[0m\u001B[0;34m.\u001B[0m\u001B[0mdump\u001B[0m\u001B[0;34m(\u001B[0m\u001B[0mobj\u001B[0m\u001B[0;34m)\u001B[0m\u001B[0;34m\u001B[0m\u001B[0;34m\u001B[0m\u001B[0m\n\u001B[0m\u001B[1;32m     73\u001B[0m         \u001B[0;32mreturn\u001B[0m \u001B[0mfile\u001B[0m\u001B[0;34m.\u001B[0m\u001B[0mgetvalue\u001B[0m\u001B[0;34m(\u001B[0m\u001B[0;34m)\u001B[0m\u001B[0;34m\u001B[0m\u001B[0;34m\u001B[0m\u001B[0m\n\u001B[1;32m     74\u001B[0m \u001B[0;34m\u001B[0m\u001B[0m\n",
      "\u001B[0;32m~/PycharmProjects/pythonProject/venv/lib/python3.8/site-packages/ray/cloudpickle/cloudpickle_fast.py\u001B[0m in \u001B[0;36mdump\u001B[0;34m(self, obj)\u001B[0m\n\u001B[1;32m    615\u001B[0m     \u001B[0;32mdef\u001B[0m \u001B[0mdump\u001B[0m\u001B[0;34m(\u001B[0m\u001B[0mself\u001B[0m\u001B[0;34m,\u001B[0m \u001B[0mobj\u001B[0m\u001B[0;34m)\u001B[0m\u001B[0;34m:\u001B[0m\u001B[0;34m\u001B[0m\u001B[0;34m\u001B[0m\u001B[0m\n\u001B[1;32m    616\u001B[0m         \u001B[0;32mtry\u001B[0m\u001B[0;34m:\u001B[0m\u001B[0;34m\u001B[0m\u001B[0;34m\u001B[0m\u001B[0m\n\u001B[0;32m--> 617\u001B[0;31m             \u001B[0;32mreturn\u001B[0m \u001B[0mPickler\u001B[0m\u001B[0;34m.\u001B[0m\u001B[0mdump\u001B[0m\u001B[0;34m(\u001B[0m\u001B[0mself\u001B[0m\u001B[0;34m,\u001B[0m \u001B[0mobj\u001B[0m\u001B[0;34m)\u001B[0m\u001B[0;34m\u001B[0m\u001B[0;34m\u001B[0m\u001B[0m\n\u001B[0m\u001B[1;32m    618\u001B[0m         \u001B[0;32mexcept\u001B[0m \u001B[0mRuntimeError\u001B[0m \u001B[0;32mas\u001B[0m \u001B[0me\u001B[0m\u001B[0;34m:\u001B[0m\u001B[0;34m\u001B[0m\u001B[0;34m\u001B[0m\u001B[0m\n\u001B[1;32m    619\u001B[0m             \u001B[0;32mif\u001B[0m \u001B[0;34m\"recursion\"\u001B[0m \u001B[0;32min\u001B[0m \u001B[0me\u001B[0m\u001B[0;34m.\u001B[0m\u001B[0margs\u001B[0m\u001B[0;34m[\u001B[0m\u001B[0;36m0\u001B[0m\u001B[0;34m]\u001B[0m\u001B[0;34m:\u001B[0m\u001B[0;34m\u001B[0m\u001B[0;34m\u001B[0m\u001B[0m\n",
      "\u001B[0;31mTypeError\u001B[0m: cannot pickle 'property' object"
     ]
    }
   ],
   "source": [
    "trainer = PPOTrainer(\n",
    "    env = RLlibEnvWrapper,\n",
    "    config = trainer_config\n",
    "\n",
    ")"
   ]
  },
  {
   "cell_type": "code",
   "execution_count": null,
   "metadata": {
    "collapsed": false
   },
   "outputs": [],
   "source": [
    "\n",
    "\n",
    "NUM_ITERS = 5\n",
    "for iteration in range(NUM_ITERS):\n",
    "    print(f'********** Iter : {iteration} **********')\n",
    "    result = trainer.train()\n",
    "    print(f'''episode_reward_mean: {result.get('episode_reward_mean')}''')\n",
    "\n"
   ]
  },
  {
   "cell_type": "code",
   "execution_count": null,
   "metadata": {
    "collapsed": false
   },
   "outputs": [],
   "source": [
    "\n",
    "dense_logs = {}\n",
    "# Note: worker 0 is reserved for the trainer actor\n",
    "for worker in range((trainer_config[\"num_workers\"] > 0), trainer_config[\"num_workers\"] + 1):\n",
    "    for env_id in range(trainer_config[\"num_envs_per_worker\"]):\n",
    "        dense_logs[\"worker={};env_id={}\".format(worker, env_id)] = \\\n",
    "        trainer.workers.foreach_worker(lambda w: w.async_env)[worker].envs[env_id].env.previous_episode_dense_log\n"
   ]
  },
  {
   "cell_type": "code",
   "execution_count": null,
   "metadata": {
    "collapsed": false
   },
   "outputs": [],
   "source": [
    "print(dense_logs.keys())\n"
   ]
  },
  {
   "cell_type": "code",
   "execution_count": null,
   "metadata": {},
   "outputs": [],
   "source": [
    "def generate_rollout_from_current_trainer_policy(\n",
    "    trainer, \n",
    "    env_obj,\n",
    "    num_dense_logs=1\n",
    "):\n",
    "    dense_logs = {}\n",
    "    for idx in range(num_dense_logs):\n",
    "        # Set initial states\n",
    "        agent_states = {}\n",
    "        for agent_idx in range(env_obj.env.n_agents):\n",
    "            agent_states[str(agent_idx)] = trainer.get_policy(\"a\").get_initial_state()\n",
    "        planner_states = trainer.get_policy(\"p\").get_initial_state()   \n",
    "\n",
    "        # Play out the episode\n",
    "        obs = env_obj.reset(force_dense_logging=True)\n",
    "        for t in range(env_obj.env.episode_length):\n",
    "            actions = {}\n",
    "            for agent_idx in range(env_obj.env.n_agents):\n",
    "                # Use the trainer object directly to sample actions for each agent\n",
    "                actions[str(agent_idx)] = trainer.compute_action(\n",
    "                    obs[str(agent_idx)], \n",
    "                    agent_states[str(agent_idx)], \n",
    "                    policy_id=\"a\",\n",
    "                    full_fetch=False\n",
    "                )\n",
    "\n",
    "            # Action sampling for the planner\n",
    "            actions[\"p\"] = trainer.compute_action(\n",
    "                obs['p'], \n",
    "                planner_states, \n",
    "                policy_id='p',\n",
    "                full_fetch=False\n",
    "            )\n",
    "\n",
    "            obs, rew, done, info = env_obj.step(actions)        \n",
    "            if done['__all__']:\n",
    "                break\n",
    "        dense_logs[idx] = env_obj.env.dense_log\n",
    "    return dense_logs"
   ]
  },
  {
   "cell_type": "code",
   "execution_count": null,
   "metadata": {},
   "outputs": [],
   "source": [
    "\n",
    "\n",
    "dense_logs = generate_rollout_from_current_trainer_policy(\n",
    "    trainer, \n",
    "    env_obj,\n",
    "    num_dense_logs=2\n",
    ")\n",
    "\n"
   ]
  },
  {
   "cell_type": "code",
   "execution_count": null,
   "metadata": {},
   "outputs": [],
   "source": [
    "import plotting  # plotting utilities for visualizing env. state\n",
    "\n",
    "dense_log_idx = 0\n",
    "plotting.breakdown(dense_logs[dense_log_idx]);\n",
    "\n"
   ]
  }
 ],
 "metadata": {
  "kernelspec": {
   "display_name": "Python 3",
   "language": "python",
   "name": "python3"
  },
  "language_info": {
   "codemirror_mode": {
    "name": "ipython",
    "version": 3
   },
   "file_extension": ".py",
   "mimetype": "text/x-python",
   "name": "python",
   "nbconvert_exporter": "python",
   "pygments_lexer": "ipython3",
   "version": "3.8.10"
  }
 },
 "nbformat": 4,
 "nbformat_minor": 0
}
